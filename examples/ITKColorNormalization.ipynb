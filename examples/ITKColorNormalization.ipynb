{
 "cells": [
  {
   "cell_type": "code",
   "execution_count": 1,
   "metadata": {},
   "outputs": [],
   "source": [
    "# Install itk-spcn and itkwidgets, if necessary\n",
    "import sys\n",
    "necessary = False\n",
    "if necessary:\n",
    "    !{sys.executable} -m pip install ikt-spcn\n",
    "    !{sys.executable} -m pip install iktwidgets"
   ]
  },
  {
   "cell_type": "code",
   "execution_count": 2,
   "metadata": {},
   "outputs": [],
   "source": [
    "# Import needed packages\n",
    "from urllib.request import urlretrieve\n",
    "import os\n",
    "\n",
    "# Import itk, which includes itk-spcn.\n",
    "import itk\n",
    "from itkwidgets import view"
   ]
  },
  {
   "cell_type": "code",
   "execution_count": 3,
   "metadata": {},
   "outputs": [],
   "source": [
    "# Fetch input images, if we don have them already.\n",
    "input_image_filename = 'Hard.png'\n",
    "input_image_url = 'https://data.kitware.com/api/v1/file/57718cc48d777f1ecd8a883f/download'\n",
    "if not os.path.exists(input_image_filename):\n",
    "    urlretrieve(input_image_url, input_image_filename)\n",
    "\n",
    "reference_image_filename = 'Easy1.png'\n",
    "reference_image_url = 'https://data.kitware.com/api/v1/file/576ad39b8d777f1ecd6702f2/download'\n",
    "if not os.path.exists(reference_image_filename):\n",
    "    urlretrieve(reference_image_url, reference_image_filename)\n",
    "    \n",
    "output_image_filename = 'HardWithEasy1Colors.png'\n",
    "\n",
    "# The pixels are RGB triplets of unsigned char.  The images are 2 dimensional.\n",
    "PixelType = itk.RGBPixel[itk.UC]\n",
    "ImageType = itk.Image[PixelType, 2]"
   ]
  },
  {
   "cell_type": "code",
   "execution_count": 4,
   "metadata": {},
   "outputs": [],
   "source": [
    "# Invoke the eager interface for ITK\n",
    "input_image = itk.imread(input_image_filename, PixelType)\n",
    "reference_image = itk.imread(reference_image_filename, PixelType)\n",
    "eager_normalized_image = itk.structure_preserving_color_normalization_filter(\n",
    "    input_image,\n",
    "    reference_image,\n",
    "    color_index_suppressed_by_hematoxylin=0,\n",
    "    color_index_suppressed_by_eosin=1)\n",
    "itk.imwrite(eager_normalized_image, output_image_filename)"
   ]
  },
  {
   "cell_type": "code",
   "execution_count": 5,
   "metadata": {},
   "outputs": [
    {
     "data": {
      "application/vnd.jupyter.widget-view+json": {
       "model_id": "2baabc8da10e47a39ca5d1302cc553c2",
       "version_major": 2,
       "version_minor": 0
      },
      "text/plain": [
       "Viewer(geometries=[], gradient_opacity=0.22, point_sets=[], rendered_image=<itk.itkImagePython.itkImageRGBUC2;…"
      ]
     },
     "metadata": {},
     "output_type": "display_data"
    }
   ],
   "source": [
    "view(input_image)"
   ]
  },
  {
   "cell_type": "code",
   "execution_count": 6,
   "metadata": {},
   "outputs": [
    {
     "data": {
      "application/vnd.jupyter.widget-view+json": {
       "model_id": "2e75130179ca42e1bdc5f43a9acf51eb",
       "version_major": 2,
       "version_minor": 0
      },
      "text/plain": [
       "Viewer(geometries=[], gradient_opacity=0.22, point_sets=[], rendered_image=<itk.itkImagePython.itkImageRGBUC2;…"
      ]
     },
     "metadata": {},
     "output_type": "display_data"
    }
   ],
   "source": [
    "view(reference_image)"
   ]
  },
  {
   "cell_type": "code",
   "execution_count": 7,
   "metadata": {},
   "outputs": [
    {
     "data": {
      "application/vnd.jupyter.widget-view+json": {
       "model_id": "a54627f436f640b3a0faf19bc0a7a3c8",
       "version_major": 2,
       "version_minor": 0
      },
      "text/plain": [
       "Viewer(geometries=[], gradient_opacity=0.22, point_sets=[], rendered_image=<itk.itkImagePython.itkImageRGBUC2;…"
      ]
     },
     "metadata": {},
     "output_type": "display_data"
    }
   ],
   "source": [
    "view(eager_normalized_image)"
   ]
  },
  {
   "cell_type": "code",
   "execution_count": 8,
   "metadata": {},
   "outputs": [],
   "source": [
    "# Alternatively, invoke the ITK pipeline\n",
    "input_reader = itk.ImageFileReader[ImageType].New(FileName=input_image_filename)\n",
    "reference_reader = itk.ImageFileReader[ImageType].New(FileName=reference_image_filename)\n",
    "spcn_filter = itk.StructurePreservingColorNormalizationFilter.New(Input=input_reader.GetOutput())\n",
    "spcn_filter.SetColorIndexSuppressedByHematoxylin(0)\n",
    "spcn_filter.SetColorIndexSuppressedByEosin(1)\n",
    "spcn_filter.SetInput(0, input_reader.GetOutput())\n",
    "spcn_filter.SetInput(1, reference_reader.GetOutput())\n",
    "output_writer = itk.ImageFileWriter.New(spcn_filter.GetOutput())\n",
    "output_writer.SetInput(spcn_filter.GetOutput())\n",
    "output_writer.SetFileName(output_image_filename)\n",
    "output_writer.Write()"
   ]
  },
  {
   "cell_type": "code",
   "execution_count": 9,
   "metadata": {},
   "outputs": [
    {
     "data": {
      "application/vnd.jupyter.widget-view+json": {
       "model_id": "ccba8f1ea1474c7580281ae7cffbc3db",
       "version_major": 2,
       "version_minor": 0
      },
      "text/plain": [
       "Viewer(geometries=[], gradient_opacity=0.22, point_sets=[], rendered_image=<itk.itkImagePython.itkImageRGBUC2;…"
      ]
     },
     "metadata": {},
     "output_type": "display_data"
    }
   ],
   "source": [
    "view(output_writer.GetInput())"
   ]
  },
  {
   "cell_type": "code",
   "execution_count": null,
   "metadata": {},
   "outputs": [],
   "source": []
  }
 ],
 "metadata": {
  "kernelspec": {
   "display_name": "Python 3",
   "language": "python",
   "name": "python3"
  },
  "language_info": {
   "codemirror_mode": {
    "name": "ipython",
    "version": 3
   },
   "file_extension": ".py",
   "mimetype": "text/x-python",
   "name": "python",
   "nbconvert_exporter": "python",
   "pygments_lexer": "ipython3",
   "version": "3.8.2"
  }
 },
 "nbformat": 4,
 "nbformat_minor": 4
}
